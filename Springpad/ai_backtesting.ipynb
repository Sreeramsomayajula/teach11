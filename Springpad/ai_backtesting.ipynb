{
 "cells": [
  {
   "cell_type": "code",
   "execution_count": 3,
   "metadata": {},
   "outputs": [
    {
     "name": "stderr",
     "output_type": "stream",
     "text": [
      "[*********************100%***********************]  1 of 1 completed"
     ]
    },
    {
     "name": "stdout",
     "output_type": "stream",
     "text": [
      "Price        Date     Adj Close         Close          High           Low  \\\n",
      "Ticker                    ^NSEI         ^NSEI         ^NSEI         ^NSEI   \n",
      "0      2023-12-04  20686.800781  20686.800781  20702.650391  20507.750000   \n",
      "1      2023-12-05  20855.099609  20855.099609  20864.050781  20711.150391   \n",
      "2      2023-12-06  20937.699219  20937.699219  20961.949219  20852.150391   \n",
      "3      2023-12-07  20901.150391  20901.150391  20941.250000  20850.800781   \n",
      "4      2023-12-08  20969.400391  20969.400391  21006.099609  20862.699219   \n",
      "\n",
      "Price           Open  Volume  \n",
      "Ticker         ^NSEI   ^NSEI  \n",
      "0       20601.949219  381100  \n",
      "1       20808.900391  421000  \n",
      "2       20950.750000  359200  \n",
      "3       20932.400391  275000  \n",
      "4       20934.099609  292400  \n",
      "NIFTY 50 data saved to 'nifty_daily_data_no_index.csv'.\n"
     ]
    },
    {
     "name": "stderr",
     "output_type": "stream",
     "text": [
      "\n"
     ]
    }
   ],
   "source": [
    "import yfinance as yf\n",
    "import datetime\n",
    "\n",
    "# Define the NIFTY 50 symbol and time range\n",
    "nifty_symbol = \"^NSEI\"  # Yahoo Finance symbol for NIFTY 50\n",
    "end_date = datetime.datetime.today().date()\n",
    "start_date = end_date - datetime.timedelta(days=365)\n",
    "\n",
    "# Download the data\n",
    "nifty_data = yf.download(nifty_symbol, start=start_date, end=end_date)\n",
    "\n",
    "# Reset the index to keep the 'Date' as a regular column\n",
    "nifty_data.reset_index(inplace=True)\n",
    "\n",
    "# Display the first few rows of the data\n",
    "print(nifty_data.head())\n",
    "\n",
    "# Save the data to a CSV file for further analysis\n",
    "nifty_data.to_csv(\"nifty_daily_data_no_index.csv\", index=False)\n",
    "print(\"NIFTY 50 data saved to 'nifty_daily_data_no_index.csv'.\")\n"
   ]
  },
  {
   "cell_type": "code",
   "execution_count": 5,
   "metadata": {},
   "outputs": [
    {
     "name": "stdout",
     "output_type": "stream",
     "text": [
      "RSI and signal column added. Data saved to 'nifty_with_rsi_signal_no_index.csv'.\n",
      "           Date        Adj Close         Close            High  \\\n",
      "240  2024-11-25  24221.900390625  24221.900391  24351.55078125   \n",
      "241  2024-11-26          24194.5  24194.500000  24343.30078125   \n",
      "242  2024-11-27  24274.900390625  24274.900391  24354.55078125   \n",
      "243  2024-11-28  23914.150390625  23914.150391        24345.75   \n",
      "244  2024-11-29  24131.099609375  24131.099609  24188.44921875   \n",
      "\n",
      "                 Low             Open  Volume        RSI  Signal  \n",
      "240   24135.44921875   24253.55078125  687200  48.594576       0  \n",
      "241  24125.400390625   24343.30078125  230700  53.755216       0  \n",
      "242  24145.650390625   24204.80078125  295000  51.225083       0  \n",
      "243  23873.349609375  24274.150390625  366700  39.057631       0  \n",
      "244  23927.150390625  23927.150390625  282100  48.654561       0  \n"
     ]
    }
   ],
   "source": [
    "import pandas as pd\n",
    "\n",
    "# Load the data from the CSV file\n",
    "nifty_data = pd.read_csv(\"nifty_daily_data_no_index.csv\")\n",
    "\n",
    "# Ensure the 'Close' column exists\n",
    "if 'Close' not in nifty_data.columns:\n",
    "    print(\"Error: The file does not contain a 'Close' column.\")\n",
    "    exit()\n",
    "\n",
    "# Convert the 'Close' column to numeric, coercing errors (e.g., non-numeric values)\n",
    "nifty_data['Close'] = pd.to_numeric(nifty_data['Close'], errors='coerce')\n",
    "\n",
    "# Drop rows where 'Close' is NaN after conversion\n",
    "nifty_data.dropna(subset=['Close'], inplace=True)\n",
    "\n",
    "# Calculate the 14-day RSI\n",
    "def calculate_rsi(data, window=14):\n",
    "    delta = data.diff()  # Price difference\n",
    "    gain = delta.where(delta > 0, 0).rolling(window=window).mean()  # Average gain\n",
    "    loss = -delta.where(delta < 0, 0).rolling(window=window).mean()  # Average loss\n",
    "    rs = gain / loss  # Relative strength\n",
    "    rsi = 100 - (100 / (1 + rs))  # RSI formula\n",
    "    return rsi\n",
    "\n",
    "nifty_data['RSI'] = calculate_rsi(nifty_data['Close'])\n",
    "\n",
    "# Generate signals based on RSI values\n",
    "nifty_data['Signal'] = nifty_data['RSI'].apply(lambda x: 1 if x > 70 else (-1 if x < 30 else 0))\n",
    "\n",
    "# Save the updated data to a new CSV file\n",
    "output_file = \"nifty_with_rsi_signal_no_index.csv\"\n",
    "nifty_data.to_csv(output_file, index=False)\n",
    "print(f\"RSI and signal column added. Data saved to '{output_file}'.\")\n",
    "\n",
    "# Display the last few rows to verify the output\n",
    "print(nifty_data.tail())\n"
   ]
  },
  {
   "cell_type": "code",
   "execution_count": 7,
   "metadata": {},
   "outputs": [
    {
     "name": "stdout",
     "output_type": "stream",
     "text": [
      "Position and profit columns added. Data saved to 'nifty_with_position_and_profit.csv'.\n",
      "           Date     Adj Close         Close          High           Low  \\\n",
      "239  2024-11-25  24221.900391  24221.900391  24351.550781  24135.449219   \n",
      "240  2024-11-26  24194.500000  24194.500000  24343.300781  24125.400391   \n",
      "241  2024-11-27  24274.900391  24274.900391  24354.550781  24145.650391   \n",
      "242  2024-11-28  23914.150391  23914.150391  24345.750000  23873.349609   \n",
      "243  2024-11-29  24131.099609  24131.099609  24188.449219  23927.150391   \n",
      "\n",
      "             Open  Volume        RSI  Signal  Position  Profit  \n",
      "239  24253.550781  687200  48.594576       0       0.0     0.0  \n",
      "240  24343.300781  230700  53.755216       0       0.0     0.0  \n",
      "241  24204.800781  295000  51.225083       0       0.0     0.0  \n",
      "242  24274.150391  366700  39.057631       0       0.0     0.0  \n",
      "243  23927.150391  282100  48.654561       0       0.0     0.0  \n"
     ]
    }
   ],
   "source": [
    "import pandas as pd\n",
    "\n",
    "# Load the updated data from the CSV file\n",
    "data = pd.read_csv(\"nifty_with_rsi_signal_no_index.csv\")\n",
    "\n",
    "# Ensure the 'Signal' column exists\n",
    "if 'Signal' not in data.columns:\n",
    "    print(\"Error: The file does not contain a 'Signal' column.\")\n",
    "    exit()\n",
    "\n",
    "# Calculate the position as the difference between the current and previous signal\n",
    "data['Position'] = data['Signal'].diff()\n",
    "\n",
    "# Initialize variables for profit calculation\n",
    "profit = 0\n",
    "holding = None  # To track if a position is currently held (price of the last \"buy\")\n",
    "\n",
    "# Calculate profit based on Signal column\n",
    "profits = []  # To store profit for each transaction\n",
    "for i, row in data.iterrows():\n",
    "    if row['Signal'] == 1 and holding is None:  # Buy signal\n",
    "        holding = row['Close']\n",
    "        profits.append(0)  # No profit recorded on buy\n",
    "    elif row['Signal'] == -1 and holding is not None:  # Sell signal\n",
    "        profit += row['Close'] - holding  # Calculate profit\n",
    "        profits.append(row['Close'] - holding)  # Record profit for this transaction\n",
    "        holding = None  # Reset holding after sell\n",
    "    else:\n",
    "        profits.append(0)  # No transaction, no profit\n",
    "\n",
    "# Add the profit column\n",
    "data['Profit'] = profits\n",
    "\n",
    "# Save the updated data to a new CSV file\n",
    "output_file = \"nifty_with_position_and_profit.csv\"\n",
    "data.to_csv(output_file, index=False)\n",
    "print(f\"Position and profit columns added. Data saved to '{output_file}'.\")\n",
    "\n",
    "# Display the last few rows to verify the output\n",
    "print(data.tail())\n"
   ]
  },
  {
   "cell_type": "code",
   "execution_count": null,
   "metadata": {},
   "outputs": [],
   "source": []
  }
 ],
 "metadata": {
  "kernelspec": {
   "display_name": "base",
   "language": "python",
   "name": "python3"
  },
  "language_info": {
   "codemirror_mode": {
    "name": "ipython",
    "version": 3
   },
   "file_extension": ".py",
   "mimetype": "text/x-python",
   "name": "python",
   "nbconvert_exporter": "python",
   "pygments_lexer": "ipython3",
   "version": "3.11.7"
  }
 },
 "nbformat": 4,
 "nbformat_minor": 2
}
