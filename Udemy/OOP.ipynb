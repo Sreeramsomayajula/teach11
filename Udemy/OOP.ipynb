{
 "cells": [
  {
   "cell_type": "code",
   "execution_count": 34,
   "metadata": {},
   "outputs": [],
   "source": [
    "import numpy as np\n",
    "import pandas as pd"
   ]
  },
  {
   "cell_type": "code",
   "execution_count": 37,
   "metadata": {},
   "outputs": [],
   "source": [
    "import numpy as np\n",
    "import pandas as pd\n"
   ]
  },
  {
   "cell_type": "code",
   "execution_count": 39,
   "metadata": {},
   "outputs": [],
   "source": [
    "ser= pd.Series(np.random.random(5), name='Column 01')"
   ]
  },
  {
   "cell_type": "code",
   "execution_count": 40,
   "metadata": {},
   "outputs": [
    {
     "data": {
      "text/plain": [
       "0    0.021476\n",
       "1    0.643524\n",
       "2    0.041774\n",
       "3    0.958523\n",
       "4    0.447091\n",
       "Name: Column 01, dtype: float64"
      ]
     },
     "execution_count": 40,
     "metadata": {},
     "output_type": "execute_result"
    }
   ],
   "source": [
    "ser"
   ]
  },
  {
   "cell_type": "code",
   "execution_count": 41,
   "metadata": {},
   "outputs": [
    {
     "data": {
      "text/plain": [
       "0.04177383082501662"
      ]
     },
     "execution_count": 41,
     "metadata": {},
     "output_type": "execute_result"
    }
   ],
   "source": [
    "ser[2]"
   ]
  },
  {
   "cell_type": "code",
   "execution_count": 44,
   "metadata": {},
   "outputs": [],
   "source": [
    "import yfinance as yf"
   ]
  },
  {
   "cell_type": "code",
   "execution_count": 45,
   "metadata": {},
   "outputs": [
    {
     "name": "stderr",
     "output_type": "stream",
     "text": [
      "[*********************100%***********************]  1 of 1 completed\n"
     ]
    },
    {
     "data": {
      "text/html": [
       "<div>\n",
       "<style scoped>\n",
       "    .dataframe tbody tr th:only-of-type {\n",
       "        vertical-align: middle;\n",
       "    }\n",
       "\n",
       "    .dataframe tbody tr th {\n",
       "        vertical-align: top;\n",
       "    }\n",
       "\n",
       "    .dataframe thead tr th {\n",
       "        text-align: left;\n",
       "    }\n",
       "\n",
       "    .dataframe thead tr:last-of-type th {\n",
       "        text-align: right;\n",
       "    }\n",
       "</style>\n",
       "<table border=\"1\" class=\"dataframe\">\n",
       "  <thead>\n",
       "    <tr>\n",
       "      <th>Price</th>\n",
       "      <th>Adj Close</th>\n",
       "      <th>Close</th>\n",
       "      <th>High</th>\n",
       "      <th>Low</th>\n",
       "      <th>Open</th>\n",
       "      <th>Volume</th>\n",
       "    </tr>\n",
       "    <tr>\n",
       "      <th>Ticker</th>\n",
       "      <th>GRSE.NS</th>\n",
       "      <th>GRSE.NS</th>\n",
       "      <th>GRSE.NS</th>\n",
       "      <th>GRSE.NS</th>\n",
       "      <th>GRSE.NS</th>\n",
       "      <th>GRSE.NS</th>\n",
       "    </tr>\n",
       "    <tr>\n",
       "      <th>Date</th>\n",
       "      <th></th>\n",
       "      <th></th>\n",
       "      <th></th>\n",
       "      <th></th>\n",
       "      <th></th>\n",
       "      <th></th>\n",
       "    </tr>\n",
       "  </thead>\n",
       "  <tbody>\n",
       "    <tr>\n",
       "      <th>2020-01-01</th>\n",
       "      <td>174.756271</td>\n",
       "      <td>198.600006</td>\n",
       "      <td>200.699997</td>\n",
       "      <td>197.800003</td>\n",
       "      <td>199.250000</td>\n",
       "      <td>59447</td>\n",
       "    </tr>\n",
       "    <tr>\n",
       "      <th>2020-01-02</th>\n",
       "      <td>184.611588</td>\n",
       "      <td>209.800003</td>\n",
       "      <td>212.699997</td>\n",
       "      <td>196.149994</td>\n",
       "      <td>198.000000</td>\n",
       "      <td>591261</td>\n",
       "    </tr>\n",
       "    <tr>\n",
       "      <th>2020-01-03</th>\n",
       "      <td>180.431870</td>\n",
       "      <td>205.050003</td>\n",
       "      <td>211.000000</td>\n",
       "      <td>203.500000</td>\n",
       "      <td>209.699997</td>\n",
       "      <td>163765</td>\n",
       "    </tr>\n",
       "    <tr>\n",
       "      <th>2020-01-06</th>\n",
       "      <td>170.180542</td>\n",
       "      <td>193.399994</td>\n",
       "      <td>204.000000</td>\n",
       "      <td>192.050003</td>\n",
       "      <td>204.000000</td>\n",
       "      <td>292445</td>\n",
       "    </tr>\n",
       "    <tr>\n",
       "      <th>2020-01-07</th>\n",
       "      <td>171.720474</td>\n",
       "      <td>195.149994</td>\n",
       "      <td>199.800003</td>\n",
       "      <td>194.149994</td>\n",
       "      <td>196.699997</td>\n",
       "      <td>172449</td>\n",
       "    </tr>\n",
       "    <tr>\n",
       "      <th>...</th>\n",
       "      <td>...</td>\n",
       "      <td>...</td>\n",
       "      <td>...</td>\n",
       "      <td>...</td>\n",
       "      <td>...</td>\n",
       "      <td>...</td>\n",
       "    </tr>\n",
       "    <tr>\n",
       "      <th>2024-11-19</th>\n",
       "      <td>1409.250000</td>\n",
       "      <td>1409.250000</td>\n",
       "      <td>1456.000000</td>\n",
       "      <td>1401.400024</td>\n",
       "      <td>1422.000000</td>\n",
       "      <td>411727</td>\n",
       "    </tr>\n",
       "    <tr>\n",
       "      <th>2024-11-21</th>\n",
       "      <td>1381.650024</td>\n",
       "      <td>1381.650024</td>\n",
       "      <td>1424.900024</td>\n",
       "      <td>1377.599976</td>\n",
       "      <td>1422.000000</td>\n",
       "      <td>394303</td>\n",
       "    </tr>\n",
       "    <tr>\n",
       "      <th>2024-11-22</th>\n",
       "      <td>1375.300049</td>\n",
       "      <td>1375.300049</td>\n",
       "      <td>1398.000000</td>\n",
       "      <td>1371.000000</td>\n",
       "      <td>1391.900024</td>\n",
       "      <td>336103</td>\n",
       "    </tr>\n",
       "    <tr>\n",
       "      <th>2024-11-25</th>\n",
       "      <td>1443.050049</td>\n",
       "      <td>1443.050049</td>\n",
       "      <td>1450.000000</td>\n",
       "      <td>1415.000000</td>\n",
       "      <td>1434.849976</td>\n",
       "      <td>463461</td>\n",
       "    </tr>\n",
       "    <tr>\n",
       "      <th>2024-11-26</th>\n",
       "      <td>1539.800049</td>\n",
       "      <td>1539.800049</td>\n",
       "      <td>1579.000000</td>\n",
       "      <td>1438.349976</td>\n",
       "      <td>1449.699951</td>\n",
       "      <td>2342205</td>\n",
       "    </tr>\n",
       "  </tbody>\n",
       "</table>\n",
       "<p>1214 rows × 6 columns</p>\n",
       "</div>"
      ],
      "text/plain": [
       "Price         Adj Close        Close         High          Low         Open  \\\n",
       "Ticker          GRSE.NS      GRSE.NS      GRSE.NS      GRSE.NS      GRSE.NS   \n",
       "Date                                                                          \n",
       "2020-01-01   174.756271   198.600006   200.699997   197.800003   199.250000   \n",
       "2020-01-02   184.611588   209.800003   212.699997   196.149994   198.000000   \n",
       "2020-01-03   180.431870   205.050003   211.000000   203.500000   209.699997   \n",
       "2020-01-06   170.180542   193.399994   204.000000   192.050003   204.000000   \n",
       "2020-01-07   171.720474   195.149994   199.800003   194.149994   196.699997   \n",
       "...                 ...          ...          ...          ...          ...   \n",
       "2024-11-19  1409.250000  1409.250000  1456.000000  1401.400024  1422.000000   \n",
       "2024-11-21  1381.650024  1381.650024  1424.900024  1377.599976  1422.000000   \n",
       "2024-11-22  1375.300049  1375.300049  1398.000000  1371.000000  1391.900024   \n",
       "2024-11-25  1443.050049  1443.050049  1450.000000  1415.000000  1434.849976   \n",
       "2024-11-26  1539.800049  1539.800049  1579.000000  1438.349976  1449.699951   \n",
       "\n",
       "Price        Volume  \n",
       "Ticker      GRSE.NS  \n",
       "Date                 \n",
       "2020-01-01    59447  \n",
       "2020-01-02   591261  \n",
       "2020-01-03   163765  \n",
       "2020-01-06   292445  \n",
       "2020-01-07   172449  \n",
       "...             ...  \n",
       "2024-11-19   411727  \n",
       "2024-11-21   394303  \n",
       "2024-11-22   336103  \n",
       "2024-11-25   463461  \n",
       "2024-11-26  2342205  \n",
       "\n",
       "[1214 rows x 6 columns]"
      ]
     },
     "execution_count": 45,
     "metadata": {},
     "output_type": "execute_result"
    }
   ],
   "source": [
    "data = yf.download('GRSE.NS',start='2020-01-01',end='2024-11-27')\n",
    "df = pd.DataFrame(data)\n",
    "df"
   ]
  },
  {
   "cell_type": "code",
   "execution_count": 46,
   "metadata": {},
   "outputs": [
    {
     "name": "stdout",
     "output_type": "stream",
     "text": [
      "<class 'pandas.core.frame.DataFrame'>\n",
      "DatetimeIndex: 1214 entries, 2020-01-01 to 2024-11-26\n",
      "Data columns (total 6 columns):\n",
      " #   Column                Non-Null Count  Dtype  \n",
      "---  ------                --------------  -----  \n",
      " 0   (Adj Close, GRSE.NS)  1214 non-null   float64\n",
      " 1   (Close, GRSE.NS)      1214 non-null   float64\n",
      " 2   (High, GRSE.NS)       1214 non-null   float64\n",
      " 3   (Low, GRSE.NS)        1214 non-null   float64\n",
      " 4   (Open, GRSE.NS)       1214 non-null   float64\n",
      " 5   (Volume, GRSE.NS)     1214 non-null   int64  \n",
      "dtypes: float64(5), int64(1)\n",
      "memory usage: 66.4 KB\n"
     ]
    }
   ],
   "source": [
    "df.info()"
   ]
  },
  {
   "cell_type": "code",
   "execution_count": 47,
   "metadata": {},
   "outputs": [
    {
     "data": {
      "text/html": [
       "<div>\n",
       "<style scoped>\n",
       "    .dataframe tbody tr th:only-of-type {\n",
       "        vertical-align: middle;\n",
       "    }\n",
       "\n",
       "    .dataframe tbody tr th {\n",
       "        vertical-align: top;\n",
       "    }\n",
       "\n",
       "    .dataframe thead tr th {\n",
       "        text-align: left;\n",
       "    }\n",
       "\n",
       "    .dataframe thead tr:last-of-type th {\n",
       "        text-align: right;\n",
       "    }\n",
       "</style>\n",
       "<table border=\"1\" class=\"dataframe\">\n",
       "  <thead>\n",
       "    <tr>\n",
       "      <th>Price</th>\n",
       "      <th>Adj Close</th>\n",
       "      <th>Close</th>\n",
       "      <th>High</th>\n",
       "      <th>Low</th>\n",
       "      <th>Open</th>\n",
       "      <th>Volume</th>\n",
       "    </tr>\n",
       "    <tr>\n",
       "      <th>Ticker</th>\n",
       "      <th>GRSE.NS</th>\n",
       "      <th>GRSE.NS</th>\n",
       "      <th>GRSE.NS</th>\n",
       "      <th>GRSE.NS</th>\n",
       "      <th>GRSE.NS</th>\n",
       "      <th>GRSE.NS</th>\n",
       "    </tr>\n",
       "    <tr>\n",
       "      <th>Date</th>\n",
       "      <th></th>\n",
       "      <th></th>\n",
       "      <th></th>\n",
       "      <th></th>\n",
       "      <th></th>\n",
       "      <th></th>\n",
       "    </tr>\n",
       "  </thead>\n",
       "  <tbody>\n",
       "    <tr>\n",
       "      <th>2020-01-01</th>\n",
       "      <td>174.756271</td>\n",
       "      <td>198.600006</td>\n",
       "      <td>200.699997</td>\n",
       "      <td>197.800003</td>\n",
       "      <td>199.250000</td>\n",
       "      <td>59447</td>\n",
       "    </tr>\n",
       "    <tr>\n",
       "      <th>2020-01-02</th>\n",
       "      <td>184.611588</td>\n",
       "      <td>209.800003</td>\n",
       "      <td>212.699997</td>\n",
       "      <td>196.149994</td>\n",
       "      <td>198.000000</td>\n",
       "      <td>591261</td>\n",
       "    </tr>\n",
       "    <tr>\n",
       "      <th>2020-01-03</th>\n",
       "      <td>180.431870</td>\n",
       "      <td>205.050003</td>\n",
       "      <td>211.000000</td>\n",
       "      <td>203.500000</td>\n",
       "      <td>209.699997</td>\n",
       "      <td>163765</td>\n",
       "    </tr>\n",
       "    <tr>\n",
       "      <th>2020-01-06</th>\n",
       "      <td>170.180542</td>\n",
       "      <td>193.399994</td>\n",
       "      <td>204.000000</td>\n",
       "      <td>192.050003</td>\n",
       "      <td>204.000000</td>\n",
       "      <td>292445</td>\n",
       "    </tr>\n",
       "    <tr>\n",
       "      <th>2020-01-07</th>\n",
       "      <td>171.720474</td>\n",
       "      <td>195.149994</td>\n",
       "      <td>199.800003</td>\n",
       "      <td>194.149994</td>\n",
       "      <td>196.699997</td>\n",
       "      <td>172449</td>\n",
       "    </tr>\n",
       "  </tbody>\n",
       "</table>\n",
       "</div>"
      ],
      "text/plain": [
       "Price        Adj Close       Close        High         Low        Open  Volume\n",
       "Ticker         GRSE.NS     GRSE.NS     GRSE.NS     GRSE.NS     GRSE.NS GRSE.NS\n",
       "Date                                                                          \n",
       "2020-01-01  174.756271  198.600006  200.699997  197.800003  199.250000   59447\n",
       "2020-01-02  184.611588  209.800003  212.699997  196.149994  198.000000  591261\n",
       "2020-01-03  180.431870  205.050003  211.000000  203.500000  209.699997  163765\n",
       "2020-01-06  170.180542  193.399994  204.000000  192.050003  204.000000  292445\n",
       "2020-01-07  171.720474  195.149994  199.800003  194.149994  196.699997  172449"
      ]
     },
     "execution_count": 47,
     "metadata": {},
     "output_type": "execute_result"
    }
   ],
   "source": [
    "df.head()"
   ]
  },
  {
   "cell_type": "code",
   "execution_count": 51,
   "metadata": {},
   "outputs": [
    {
     "name": "stderr",
     "output_type": "stream",
     "text": [
      "[*********************100%***********************]  1 of 1 completed\n",
      "[*********************100%***********************]  1 of 1 completed\n",
      "[*********************100%***********************]  1 of 1 completed\n",
      "[*********************100%***********************]  1 of 1 completed\n",
      "[*********************100%***********************]  1 of 1 completed\n"
     ]
    }
   ],
   "source": [
    "tickers = ['PG', 'MSFT', 'T', 'F', 'GE']\n",
    "new_data = pd.DataFrame()\n",
    "for t in tickers:\n",
    "    new_data[t] = yf.download(t, start='2020-1-1')['Adj Close']"
   ]
  },
  {
   "cell_type": "code",
   "execution_count": 52,
   "metadata": {},
   "outputs": [
    {
     "data": {
      "text/html": [
       "<div>\n",
       "<style scoped>\n",
       "    .dataframe tbody tr th:only-of-type {\n",
       "        vertical-align: middle;\n",
       "    }\n",
       "\n",
       "    .dataframe tbody tr th {\n",
       "        vertical-align: top;\n",
       "    }\n",
       "\n",
       "    .dataframe thead th {\n",
       "        text-align: right;\n",
       "    }\n",
       "</style>\n",
       "<table border=\"1\" class=\"dataframe\">\n",
       "  <thead>\n",
       "    <tr style=\"text-align: right;\">\n",
       "      <th></th>\n",
       "      <th>PG</th>\n",
       "      <th>MSFT</th>\n",
       "      <th>T</th>\n",
       "      <th>F</th>\n",
       "      <th>GE</th>\n",
       "    </tr>\n",
       "    <tr>\n",
       "      <th>Date</th>\n",
       "      <th></th>\n",
       "      <th></th>\n",
       "      <th></th>\n",
       "      <th></th>\n",
       "      <th></th>\n",
       "    </tr>\n",
       "  </thead>\n",
       "  <tbody>\n",
       "    <tr>\n",
       "      <th>2024-11-22</th>\n",
       "      <td>176.279999</td>\n",
       "      <td>417.000000</td>\n",
       "      <td>23.18</td>\n",
       "      <td>11.18</td>\n",
       "      <td>181.149994</td>\n",
       "    </tr>\n",
       "    <tr>\n",
       "      <th>2024-11-25</th>\n",
       "      <td>177.389999</td>\n",
       "      <td>418.790009</td>\n",
       "      <td>23.10</td>\n",
       "      <td>11.40</td>\n",
       "      <td>180.210007</td>\n",
       "    </tr>\n",
       "    <tr>\n",
       "      <th>2024-11-26</th>\n",
       "      <td>179.309998</td>\n",
       "      <td>427.989990</td>\n",
       "      <td>23.09</td>\n",
       "      <td>11.10</td>\n",
       "      <td>184.600006</td>\n",
       "    </tr>\n",
       "    <tr>\n",
       "      <th>2024-11-27</th>\n",
       "      <td>179.360001</td>\n",
       "      <td>422.989990</td>\n",
       "      <td>23.27</td>\n",
       "      <td>11.10</td>\n",
       "      <td>180.600006</td>\n",
       "    </tr>\n",
       "    <tr>\n",
       "      <th>2024-11-29</th>\n",
       "      <td>179.259995</td>\n",
       "      <td>423.459991</td>\n",
       "      <td>23.16</td>\n",
       "      <td>11.13</td>\n",
       "      <td>182.160004</td>\n",
       "    </tr>\n",
       "  </tbody>\n",
       "</table>\n",
       "</div>"
      ],
      "text/plain": [
       "                    PG        MSFT      T      F          GE\n",
       "Date                                                        \n",
       "2024-11-22  176.279999  417.000000  23.18  11.18  181.149994\n",
       "2024-11-25  177.389999  418.790009  23.10  11.40  180.210007\n",
       "2024-11-26  179.309998  427.989990  23.09  11.10  184.600006\n",
       "2024-11-27  179.360001  422.989990  23.27  11.10  180.600006\n",
       "2024-11-29  179.259995  423.459991  23.16  11.13  182.160004"
      ]
     },
     "execution_count": 52,
     "metadata": {},
     "output_type": "execute_result"
    }
   ],
   "source": [
    "new_data.tail()"
   ]
  },
  {
   "cell_type": "code",
   "execution_count": 53,
   "metadata": {},
   "outputs": [
    {
     "name": "stderr",
     "output_type": "stream",
     "text": [
      "[*********************100%***********************]  1 of 1 completed\n",
      "[*********************100%***********************]  1 of 1 completed\n"
     ]
    }
   ],
   "source": [
    "tickers1 = ['tcs.ns', 'infy.ns']\n",
    "a = pd.DataFrame()\n",
    "for t1 in tickers1:\n",
    "    a[t1] = yf.download(t1, start='2020-01-01')['Adj Close']"
   ]
  },
  {
   "cell_type": "code",
   "execution_count": 56,
   "metadata": {},
   "outputs": [
    {
     "data": {
      "text/html": [
       "<div>\n",
       "<style scoped>\n",
       "    .dataframe tbody tr th:only-of-type {\n",
       "        vertical-align: middle;\n",
       "    }\n",
       "\n",
       "    .dataframe tbody tr th {\n",
       "        vertical-align: top;\n",
       "    }\n",
       "\n",
       "    .dataframe thead th {\n",
       "        text-align: right;\n",
       "    }\n",
       "</style>\n",
       "<table border=\"1\" class=\"dataframe\">\n",
       "  <thead>\n",
       "    <tr style=\"text-align: right;\">\n",
       "      <th></th>\n",
       "      <th>tcs.ns</th>\n",
       "      <th>infy.ns</th>\n",
       "    </tr>\n",
       "    <tr>\n",
       "      <th>Date</th>\n",
       "      <th></th>\n",
       "      <th></th>\n",
       "    </tr>\n",
       "  </thead>\n",
       "  <tbody>\n",
       "    <tr>\n",
       "      <th>2020-01-01</th>\n",
       "      <td>2015.370361</td>\n",
       "      <td>661.205139</td>\n",
       "    </tr>\n",
       "    <tr>\n",
       "      <th>2020-01-02</th>\n",
       "      <td>2006.119019</td>\n",
       "      <td>659.276001</td>\n",
       "    </tr>\n",
       "    <tr>\n",
       "      <th>2020-01-03</th>\n",
       "      <td>2046.098755</td>\n",
       "      <td>669.415894</td>\n",
       "    </tr>\n",
       "    <tr>\n",
       "      <th>2020-01-06</th>\n",
       "      <td>2045.913574</td>\n",
       "      <td>662.999817</td>\n",
       "    </tr>\n",
       "    <tr>\n",
       "      <th>2020-01-07</th>\n",
       "      <td>2050.934082</td>\n",
       "      <td>653.174072</td>\n",
       "    </tr>\n",
       "  </tbody>\n",
       "</table>\n",
       "</div>"
      ],
      "text/plain": [
       "                 tcs.ns     infy.ns\n",
       "Date                               \n",
       "2020-01-01  2015.370361  661.205139\n",
       "2020-01-02  2006.119019  659.276001\n",
       "2020-01-03  2046.098755  669.415894\n",
       "2020-01-06  2045.913574  662.999817\n",
       "2020-01-07  2050.934082  653.174072"
      ]
     },
     "execution_count": 56,
     "metadata": {},
     "output_type": "execute_result"
    }
   ],
   "source": [
    "a.head()"
   ]
  },
  {
   "cell_type": "code",
   "execution_count": 57,
   "metadata": {},
   "outputs": [
    {
     "data": {
      "text/html": [
       "<div>\n",
       "<style scoped>\n",
       "    .dataframe tbody tr th:only-of-type {\n",
       "        vertical-align: middle;\n",
       "    }\n",
       "\n",
       "    .dataframe tbody tr th {\n",
       "        vertical-align: top;\n",
       "    }\n",
       "\n",
       "    .dataframe thead th {\n",
       "        text-align: right;\n",
       "    }\n",
       "</style>\n",
       "<table border=\"1\" class=\"dataframe\">\n",
       "  <thead>\n",
       "    <tr style=\"text-align: right;\">\n",
       "      <th></th>\n",
       "      <th>tcs.ns</th>\n",
       "      <th>infy.ns</th>\n",
       "    </tr>\n",
       "    <tr>\n",
       "      <th>Date</th>\n",
       "      <th></th>\n",
       "      <th></th>\n",
       "    </tr>\n",
       "  </thead>\n",
       "  <tbody>\n",
       "    <tr>\n",
       "      <th>2024-11-25</th>\n",
       "      <td>4315.100098</td>\n",
       "      <td>1889.699951</td>\n",
       "    </tr>\n",
       "    <tr>\n",
       "      <th>2024-11-26</th>\n",
       "      <td>4352.700195</td>\n",
       "      <td>1924.150024</td>\n",
       "    </tr>\n",
       "    <tr>\n",
       "      <th>2024-11-27</th>\n",
       "      <td>4332.549805</td>\n",
       "      <td>1924.500000</td>\n",
       "    </tr>\n",
       "    <tr>\n",
       "      <th>2024-11-28</th>\n",
       "      <td>4244.899902</td>\n",
       "      <td>1856.650024</td>\n",
       "    </tr>\n",
       "    <tr>\n",
       "      <th>2024-11-29</th>\n",
       "      <td>4270.850098</td>\n",
       "      <td>1857.849976</td>\n",
       "    </tr>\n",
       "  </tbody>\n",
       "</table>\n",
       "</div>"
      ],
      "text/plain": [
       "                 tcs.ns      infy.ns\n",
       "Date                                \n",
       "2024-11-25  4315.100098  1889.699951\n",
       "2024-11-26  4352.700195  1924.150024\n",
       "2024-11-27  4332.549805  1924.500000\n",
       "2024-11-28  4244.899902  1856.650024\n",
       "2024-11-29  4270.850098  1857.849976"
      ]
     },
     "execution_count": 57,
     "metadata": {},
     "output_type": "execute_result"
    }
   ],
   "source": [
    "a.tail()"
   ]
  },
  {
   "cell_type": "code",
   "execution_count": 65,
   "metadata": {},
   "outputs": [],
   "source": [
    "import iex"
   ]
  },
  {
   "cell_type": "code",
   "execution_count": 66,
   "metadata": {},
   "outputs": [
    {
     "ename": "AttributeError",
     "evalue": "module 'iex' has no attribute 'download'",
     "output_type": "error",
     "traceback": [
      "\u001b[0;31m---------------------------------------------------------------------------\u001b[0m",
      "\u001b[0;31mAttributeError\u001b[0m                            Traceback (most recent call last)",
      "Cell \u001b[0;32mIn[66], line 3\u001b[0m\n\u001b[1;32m      1\u001b[0m df\u001b[38;5;241m=\u001b[39mpd\u001b[38;5;241m.\u001b[39mDataFrame()\n\u001b[1;32m      2\u001b[0m \u001b[38;5;66;03m#data = yf.download('GRSE.NS',start='2020-01-01',end='2024-11-27')\u001b[39;00m\n\u001b[0;32m----> 3\u001b[0m data1\u001b[38;5;241m=\u001b[39m iex\u001b[38;5;241m.\u001b[39mdownload(\u001b[38;5;124m\"\u001b[39m\u001b[38;5;124mPG\u001b[39m\u001b[38;5;124m\"\u001b[39m, start\u001b[38;5;241m=\u001b[39m\u001b[38;5;124m\"\u001b[39m\u001b[38;5;124m2020-01-01\u001b[39m\u001b[38;5;124m\"\u001b[39m)\n",
      "\u001b[0;31mAttributeError\u001b[0m: module 'iex' has no attribute 'download'"
     ]
    }
   ],
   "source": [
    "df=pd.DataFrame()\n",
    "#data = yf.download('GRSE.NS',start='2020-01-01',end='2024-11-27')\n",
    "data1= iex.download(\"PG\", start=\"2020-01-01\")"
   ]
  },
  {
   "cell_type": "code",
   "execution_count": 76,
   "metadata": {},
   "outputs": [
    {
     "data": {
      "text/plain": [
       "<bound method NDFrame.tail of Price         Adj Close        Close         High          Low         Open  \\\n",
       "Ticker          GRSE.NS      GRSE.NS      GRSE.NS      GRSE.NS      GRSE.NS   \n",
       "Date                                                                          \n",
       "2020-01-01   174.756271   198.600006   200.699997   197.800003   199.250000   \n",
       "2020-01-02   184.611588   209.800003   212.699997   196.149994   198.000000   \n",
       "2020-01-03   180.431870   205.050003   211.000000   203.500000   209.699997   \n",
       "2020-01-06   170.180542   193.399994   204.000000   192.050003   204.000000   \n",
       "2020-01-07   171.720474   195.149994   199.800003   194.149994   196.699997   \n",
       "...                 ...          ...          ...          ...          ...   \n",
       "2024-11-19  1409.250000  1409.250000  1456.000000  1401.400024  1422.000000   \n",
       "2024-11-21  1381.650024  1381.650024  1424.900024  1377.599976  1422.000000   \n",
       "2024-11-22  1375.300049  1375.300049  1398.000000  1371.000000  1391.900024   \n",
       "2024-11-25  1443.050049  1443.050049  1450.000000  1415.000000  1434.849976   \n",
       "2024-11-26  1539.800049  1539.800049  1579.000000  1438.349976  1449.699951   \n",
       "\n",
       "Price        Volume  \n",
       "Ticker      GRSE.NS  \n",
       "Date                 \n",
       "2020-01-01    59447  \n",
       "2020-01-02   591261  \n",
       "2020-01-03   163765  \n",
       "2020-01-06   292445  \n",
       "2020-01-07   172449  \n",
       "...             ...  \n",
       "2024-11-19   411727  \n",
       "2024-11-21   394303  \n",
       "2024-11-22   336103  \n",
       "2024-11-25   463461  \n",
       "2024-11-26  2342205  \n",
       "\n",
       "[1214 rows x 6 columns]>"
      ]
     },
     "execution_count": 76,
     "metadata": {},
     "output_type": "execute_result"
    }
   ],
   "source": [
    "data.tail"
   ]
  },
  {
   "cell_type": "code",
   "execution_count": 79,
   "metadata": {},
   "outputs": [
    {
     "ename": "KeyError",
     "evalue": "\"None of ['Date'] are in the columns\"",
     "output_type": "error",
     "traceback": [
      "\u001b[0;31m---------------------------------------------------------------------------\u001b[0m",
      "\u001b[0;31mKeyError\u001b[0m                                  Traceback (most recent call last)",
      "\u001b[0;32m/var/folders/np/_ddhpw2179zf9nnd110f3b_40000gn/T/ipykernel_30709/2239584859.py\u001b[0m in \u001b[0;36m?\u001b[0;34m()\u001b[0m\n\u001b[0;32m----> 1\u001b[0;31m \u001b[0mdata\u001b[0m\u001b[0;34m.\u001b[0m\u001b[0mset_index\u001b[0m\u001b[0;34m(\u001b[0m\u001b[0;34m'Date'\u001b[0m\u001b[0;34m)\u001b[0m\u001b[0;34m\u001b[0m\u001b[0;34m\u001b[0m\u001b[0m\n\u001b[0m",
      "\u001b[0;32m/opt/anaconda3/lib/python3.11/site-packages/pandas/core/frame.py\u001b[0m in \u001b[0;36m?\u001b[0;34m(self, keys, drop, append, inplace, verify_integrity)\u001b[0m\n\u001b[1;32m   5866\u001b[0m                     \u001b[0;32mif\u001b[0m \u001b[0;32mnot\u001b[0m \u001b[0mfound\u001b[0m\u001b[0;34m:\u001b[0m\u001b[0;34m\u001b[0m\u001b[0;34m\u001b[0m\u001b[0m\n\u001b[1;32m   5867\u001b[0m                         \u001b[0mmissing\u001b[0m\u001b[0;34m.\u001b[0m\u001b[0mappend\u001b[0m\u001b[0;34m(\u001b[0m\u001b[0mcol\u001b[0m\u001b[0;34m)\u001b[0m\u001b[0;34m\u001b[0m\u001b[0;34m\u001b[0m\u001b[0m\n\u001b[1;32m   5868\u001b[0m \u001b[0;34m\u001b[0m\u001b[0m\n\u001b[1;32m   5869\u001b[0m         \u001b[0;32mif\u001b[0m \u001b[0mmissing\u001b[0m\u001b[0;34m:\u001b[0m\u001b[0;34m\u001b[0m\u001b[0;34m\u001b[0m\u001b[0m\n\u001b[0;32m-> 5870\u001b[0;31m             \u001b[0;32mraise\u001b[0m \u001b[0mKeyError\u001b[0m\u001b[0;34m(\u001b[0m\u001b[0;34mf\"None of {missing} are in the columns\"\u001b[0m\u001b[0;34m)\u001b[0m\u001b[0;34m\u001b[0m\u001b[0;34m\u001b[0m\u001b[0m\n\u001b[0m\u001b[1;32m   5871\u001b[0m \u001b[0;34m\u001b[0m\u001b[0m\n\u001b[1;32m   5872\u001b[0m         \u001b[0;32mif\u001b[0m \u001b[0minplace\u001b[0m\u001b[0;34m:\u001b[0m\u001b[0;34m\u001b[0m\u001b[0;34m\u001b[0m\u001b[0m\n\u001b[1;32m   5873\u001b[0m             \u001b[0mframe\u001b[0m \u001b[0;34m=\u001b[0m \u001b[0mself\u001b[0m\u001b[0;34m\u001b[0m\u001b[0;34m\u001b[0m\u001b[0m\n",
      "\u001b[0;31mKeyError\u001b[0m: \"None of ['Date'] are in the columns\""
     ]
    }
   ],
   "source": [
    "data.set_index('Date')"
   ]
  },
  {
   "cell_type": "code",
   "execution_count": null,
   "metadata": {},
   "outputs": [],
   "source": []
  }
 ],
 "metadata": {
  "kernelspec": {
   "display_name": "base",
   "language": "python",
   "name": "python3"
  },
  "language_info": {
   "codemirror_mode": {
    "name": "ipython",
    "version": 3
   },
   "file_extension": ".py",
   "mimetype": "text/x-python",
   "name": "python",
   "nbconvert_exporter": "python",
   "pygments_lexer": "ipython3",
   "version": "3.11.7"
  }
 },
 "nbformat": 4,
 "nbformat_minor": 2
}
